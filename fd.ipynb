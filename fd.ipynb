{
 "cells": [
  {
   "cell_type": "markdown",
   "id": "d93d9c1e-1904-4095-a8e2-26e31a0f4a0d",
   "metadata": {},
   "source": [
    "# Finite Differences"
   ]
  },
  {
   "cell_type": "markdown",
   "id": "58fc9400-2fc8-4748-9511-6f46a0350620",
   "metadata": {},
   "source": [
    "[Finite difference formulas](https://en.wikipedia.org/wiki/Finite_difference) approximate values of the derivatives $f^{(n)}(x)$ of a function using only the values $f(x)$ of the function itself. All finite difference formulas are derived from the Taylor series\n",
    "\n",
    "$$\n",
    "f(x+h) = f(x) + f'(x)h + \\frac{f''(x)}{2}h^2 + \\frac{f'''(x)}{6}h^3 + \\cdots\n",
    "$$\n",
    "\n",
    "For example, we have the familiar forward difference formula which approximates the first derivative\n",
    "\n",
    "$$\n",
    "f'(x) = \\frac{f(x+h) - f(x)}{h} + O(h)\n",
    "$$\n",
    "\n",
    "Subtract Taylor series\n",
    "\n",
    "$$\n",
    "f(x+h) - f(x-h) = 2f'(x)h + O(h^3) \\nonumber\n",
    "$$\n",
    "\n",
    "and rearrange to get the (first order) central difference formula\n",
    "\n",
    "$$\n",
    "f'(x) = \\frac{f(x+h) - f(x-h)}{2h} + O(h^2)\n",
    "$$\n",
    "\n",
    "Now add the equations\n",
    "\n",
    "$$\n",
    "f(x+h) + f(x-h) = 2f(x) + f''(x)h^2 + O(h^4)\n",
    "$$\n",
    "\n",
    "and rearrange to get the (second order) central difference formula\n",
    "\n",
    "$$\n",
    "f''(x) = \\frac{f(x+h) - 2f(x) + f(x-h)}{h^2} + O(h^2)\n",
    "$$"
   ]
  }
 ],
 "metadata": {
  "kernelspec": {
   "display_name": "Python 3 (ipykernel)",
   "language": "python",
   "name": "python3"
  },
  "language_info": {
   "codemirror_mode": {
    "name": "ipython",
    "version": 3
   },
   "file_extension": ".py",
   "mimetype": "text/x-python",
   "name": "python",
   "nbconvert_exporter": "python",
   "pygments_lexer": "ipython3",
   "version": "3.10.12"
  }
 },
 "nbformat": 4,
 "nbformat_minor": 5
}
