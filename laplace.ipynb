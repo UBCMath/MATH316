{
 "cells": [
  {
   "cell_type": "markdown",
   "id": "c2471401-0581-47c8-bd0b-230b4423c15b",
   "metadata": {},
   "source": [
    "# Laplace Equation"
   ]
  },
  {
   "cell_type": "code",
   "execution_count": 2,
   "id": "ef138d43-27ca-45a7-9e0f-04e341140256",
   "metadata": {
    "tags": []
   },
   "outputs": [],
   "source": [
    "import numpy as np\n",
    "import matplotlib.pyplot as plt"
   ]
  },
  {
   "cell_type": "markdown",
   "id": "381abfa5-ce2d-4bac-bc19-747664671991",
   "metadata": {},
   "source": [
    "The **Laplace equation** is given by\n",
    "\n",
    "$$\n",
    "\\frac{\\partial^2 u}{\\partial x^2} + \\frac{\\partial^2 u}{\\partial y^2} = 0 \\ , \\ \\ 0 \\leq x \\leq 1 \\ , \\ \\ 0 \\leq y \\leq 1\n",
    "$$\n",
    "\n",
    "Note that we are restricting the domain to the unit square $[0,1] \\times [0,1]$."
   ]
  },
  {
   "cell_type": "markdown",
   "id": "060b2c21-92f8-4cd3-947c-277c84ab09ba",
   "metadata": {},
   "source": [
    "## Boundary Conditions\n",
    "\n",
    "Both variables $x$ and $y$ are spatial and there is no time variable $t$. Therefore there are only boundary conditions in the $x$ and $y$ directions and no initial condition to consider.\n",
    "\n",
    "**Dirichlet boundary conditions** specify the values of the solution at the endpoints:\n",
    "\n",
    "$$\n",
    "u(x,0) = f_0(x) \\ \\ \\ \\text{and} \\ \\ \\ u(x,1) = f_1(x)\n",
    "$$\n",
    "\n",
    "$$\n",
    "u(0,y) = g_0(y) \\ \\ \\ \\text{and} \\ \\ \\ u(1,y) = g_1(y)\n",
    "$$\n",
    "\n",
    "**Neumann boundary conditions** specify the values of the derivative of the solution at the endpoints:\n",
    "\n",
    "$$\n",
    "u_y(x,0) = p_0(x) \\ \\ \\ \\text{and} \\ \\ \\ u_y(x,1) = p_1(x)\n",
    "$$\n",
    "\n",
    "$$\n",
    "u_x(0,y) = q_0(y) \\ \\ \\ \\text{and} \\ \\ \\ u_x(1,y) = q_1(y)\n",
    "$$\n",
    "\n",
    "When boundary conditions include both Dirichlet and Neumann conditions we call them **mixed boundary conditions**."
   ]
  },
  {
   "cell_type": "markdown",
   "id": "af1d5e9f-4357-4e05-811a-3b37e92fbf7f",
   "metadata": {},
   "source": [
    "## Discretization\n",
    "\n",
    "Choose the number of steps $N$ in the $x$ direction and use the same number of steps $N$ in the $y$ direction. These choices determine the step sizes $\\Delta x$ and $\\Delta y$, and create a grid of points:\n",
    "\n",
    "$$\n",
    "\\begin{align}\n",
    "x_n &= n \\Delta x \\ , \\ \\ n = 0,1, \\dots, N \\ , \\ \\ \\Delta x = \\frac{1}{N} \\\\\n",
    "y_m &= m \\Delta y \\ , \\ \\ m = 0,1, \\dots, N \\ , \\ \\ \\Delta y = \\frac{1}{N}\n",
    "\\end{align}\n",
    "$$\n",
    "\n",
    "The domain of the solution $u(x,y)$ is the unit square $[0,1] \\times [0,1]$. The goal of a finite difference method is to compute the matrix\n",
    "\n",
    "$$\n",
    "U = [u_{n,m}]\n",
    "$$\n",
    "\n",
    "which gives approximations of the solution $u(x,y)$ at the grid points:\n",
    "\n",
    "$$\n",
    "u_{n,m} \\approx u(x_n,y_m) = u(n \\Delta x,m \\Delta y)\n",
    "$$\n",
    "\n",
    "where $x_0 = 0$, $x_N = 1$, $y_0 = 0$ and $y_N = 1$."
   ]
  },
  {
   "cell_type": "markdown",
   "id": "e5a65fb9-d84f-4871-9343-62e7ca120d90",
   "metadata": {},
   "source": [
    "## Central Space Central Space\n",
    "\n",
    "Apply the central difference formula to both $u_{xx}$ and $u_{yy}$ at position $x_n$ and $y_m$\n",
    "\n",
    "$$\n",
    "\\frac{u(x_{n+1},y_m) - 2 u(x_n,y_m) + u(x_{n-1},y_m)}{(\\Delta x)^2} + O((\\Delta x)^2) \\hspace{40mm}\n",
    "$$\n",
    "\n",
    "$$\n",
    "+ \\frac{u(x_n,y_{m+1}) - 2 u(x_n,y_m) + u(x_n,y_{m-1})}{(\\Delta y)^2} + O((\\Delta y)^2) = 0\n",
    "$$\n",
    "\n",
    "Rearrange using the equality $\\Delta x = \\Delta y$ to get the finite difference equation\n",
    "\n",
    "$$\n",
    "u_{n,m} = \\frac{u_{n+1,m} + u_{n-1,m} + u_{n,m+1} + u_{n,m-1}}{4}\n",
    "$$\n",
    "\n",
    "Therefore the value at position $(x_n,y_m)$ is the average of the values in adjacent positions. This the **central-space-central-space (CSCS)** finite difference method for the Laplace equation."
   ]
  },
  {
   "cell_type": "markdown",
   "id": "34b4e05b-1e86-4582-a868-c134246aa94c",
   "metadata": {},
   "source": [
    "## CSCS with Dirichlet BCs\n",
    "\n",
    "### Jacobi Iteration\n",
    "\n",
    "It is possible to setup a large system of linear equations to numerically solve the Laplace equation however a simpler method is to approximate the solution iteratively. In particular, define a sequence of matrices $U_0,U_1,U_2,\\dots$ where $U_0 = [u_{n,m}^0]$ is the matrix of size $(N + 1) \\times (N + 1)$ with boundary values given by the boundary conditions\n",
    "\n",
    "$$\n",
    "u^0_{n,0} = f_0(x_n) \\ \\ , \\ \\ u^0_{n,N} = f_1(x_n) \\ \\ , \\ \\ u^0_{0,m} = g_0(y_m) \\ \\ , \\ \\ u^0_{N,m} = g_1(y_m)\n",
    "$$\n",
    "\n",
    "and all other values in the interior of the matrix are 0s:\n",
    "\n",
    "$$\n",
    "u_{n,m}^0 = 0 \\ \\ , \\ \\ 0 < n < N \\ \\ , \\ \\ 0 < m < N\n",
    "$$\n",
    "\n",
    "Given the $k$th matrix $U_k = [u_{n,m}^k]$, compute the next matrix $U_{k+1} = [u_{n,m}^{k+1}]$ by again setting the boundary values \n",
    "\n",
    "$$\n",
    "u^{k+1}_{n,0} = f_0(x_n) \\ \\ , \\ \\\n",
    "u^{k+1}_{n,N} = f_1(x_n) \\ \\ , \\ \\\n",
    "u^{k+1}_{0,m} = g_0(y_m) \\ \\ , \\ \\\n",
    "u^{k+1}_{N,m} = g_1(y_m)\n",
    "$$\n",
    "\n",
    "and then computing the finite difference formula\n",
    "\n",
    "$$\n",
    "u^{k+1}_{n,m} = \\frac{u^k_{n+1,m} + u^k_{n-1,m} + u^k_{n,m+1} + u^k_{n,m-1}}{4} \\ \\ , \\ \\ 0 < n < N \\ \\ , \\ \\ 0 < m < N\n",
    "$$\n",
    "\n",
    "Iterate until the average squared difference $\\Delta U_k$ from iteration $k$ to $k+1$ is less than some set value $D$:\n",
    "\n",
    "$$\n",
    "\\Delta U_k = \\sqrt{\\frac{1}{N^2} \\sum_{n=0}^{N} \\sum_{m=0}^{N} \\left( u^{k+1}_{n,m} - u^k_{n,m} \\right)^2 } < D\n",
    "$$"
   ]
  },
  {
   "cell_type": "markdown",
   "id": "f69c651f-9f46-40ff-afc9-d2b3c7803850",
   "metadata": {},
   "source": [
    "### Implementation\n",
    "\n",
    "The function `laplace` takes input parameters `f0`, `f1`, `g0`, `g1`, `N` and `D`, and returns the matrix `U` of approximations where:\n",
    "\n",
    "* `f0` is a Python function which represents the boundary condition $u(x,0) = f_0(x)$\n",
    "* `f1` is a Python function which represents the boundary condition $u(x,1) = f_1(x)$\n",
    "* `g0` is a Python function which represents the boundary condition $u(0,y) = g_0(y)$\n",
    "* `g1` is a Python function which represents the boundary condition $u(1,y) = g_1(y)$\n",
    "* `N` is the number of steps in both $x$ and $y$ directions of the discretization\n",
    "* `D` is the stopping criteria $\\Delta U_k < D$\n",
    "* `U` is the matrix $U = [u_{n,m}]$ of size $(N+1) \\times (N+1)$ of approximations $u_{n,m} \\approx u(x_n,y_m)$\n",
    "\n",
    "Set default values `N=50`, `D=0.001` and `max_iter=1000`."
   ]
  },
  {
   "cell_type": "code",
   "execution_count": 36,
   "id": "7b760fd2-46b9-477c-a9e9-8e83b77ca14f",
   "metadata": {
    "tags": []
   },
   "outputs": [],
   "source": [
    "def laplace(f0,f1,g0,g1,N=50,D=1e-3,max_iter=1000):\n",
    "    U = np.zeros([N+1,N+1])\n",
    "    for n in range(N+1):\n",
    "        U[n,0] = f0(n/N)\n",
    "        U[n,N] = f1(n/N)\n",
    "        U[0,n] = g0(n/N)\n",
    "        U[N,n] = g1(n/N)\n",
    "    for k in range(0,max_iter):\n",
    "        Uk = U.copy()\n",
    "        for n in range(1,N):\n",
    "            for m in range(1,N):\n",
    "                U[n,m] = (Uk[n+1,m] + Uk[n,m+1] + Uk[n-1,m] + Uk[n,m-1])/4\n",
    "        dU = np.sqrt(np.sum((Uk - U)**2)/N**2)\n",
    "        if dU < D:\n",
    "            break\n",
    "    if k == max_iter - 1:\n",
    "        print(\"Exceeded maximum iterations.\")\n",
    "    else:\n",
    "        print(f\"Found approximation U with dUk = {dU} after k = {k} iterations.\")\n",
    "    return U"
   ]
  },
  {
   "cell_type": "markdown",
   "id": "990e756d-8c04-4f10-8a18-89dff565ff4d",
   "metadata": {},
   "source": [
    "Note that the row index of $U$ corresponds to the variable $x$. Therefore if we want to visualize the solution with $x$ in the horizontal direction and $y$ increasing in the vertical direction then we need to plot the trranpose $U^T$ with the $y$ axis flipped. Let's write a function which does this."
   ]
  },
  {
   "cell_type": "code",
   "execution_count": 28,
   "id": "daa5045a-6642-4c9d-955b-8f1ed740d3e3",
   "metadata": {
    "tags": []
   },
   "outputs": [],
   "source": [
    "def plot_laplace(U):\n",
    "    W = np.flip(U.T,axis=0)\n",
    "    plt.imshow(W,aspect='auto',cmap='RdBu_r')\n",
    "    M = np.max(np.abs(U))\n",
    "    plt.clim([-M,M]), plt.axis('off'), plt.colorbar()\n",
    "    plt.show()"
   ]
  },
  {
   "cell_type": "markdown",
   "id": "407713e5-6e93-4049-8802-8c0b13295d4b",
   "metadata": {},
   "source": [
    "Approximate the solution for $u(x,0) = u(0,y) = u(1,y) = 0$ and $u(x,1) = 1$. Note that boundary conditions are always defined as Python functions."
   ]
  },
  {
   "cell_type": "code",
   "execution_count": 30,
   "id": "512cce58-0033-4c43-b7f9-44ad531ac26e",
   "metadata": {
    "tags": []
   },
   "outputs": [
    {
     "name": "stdout",
     "output_type": "stream",
     "text": [
      "Found approximation U with dUk = 0.0009989993089566857 after k=79 iterations.\n"
     ]
    },
    {
     "data": {
      "image/png": "[encoded data removed]",
      "text/plain": [
       "<Figure size 640x480 with 2 Axes>"
      ]
     },
     "metadata": {},
     "output_type": "display_data"
    }
   ],
   "source": [
    "f0 = lambda x: 0.\n",
    "f1 = lambda x: 1.\n",
    "g0 = lambda y: 0.\n",
    "g1 = lambda y: 0.\n",
    "U = laplace(f0,f1,g0,g1)\n",
    "plot_laplace(U)"
   ]
  },
  {
   "cell_type": "markdown",
   "id": "f86ea3b6-43a1-4bc9-b217-94e37aba765a",
   "metadata": {},
   "source": [
    "### Examples\n",
    "\n",
    "**Example 1.** Compute the solution for $u(x,0) = 2x$, $u(x,1) = x - 1$, $u(0,y) = -y$, $u(1,y) = 2(1 - y)$. Use $N=100$."
   ]
  },
  {
   "cell_type": "code",
   "execution_count": 32,
   "id": "533ced61-e249-4699-aa3a-d00f0784e2dd",
   "metadata": {
    "tags": []
   },
   "outputs": [
    {
     "name": "stdout",
     "output_type": "stream",
     "text": [
      "Found approximation U with dUk = 0.0009990046888100365 after k=134 iterations.\n"
     ]
    },
    {
     "data": {
      "image/png": "[encoded data removed]",
      "text/plain": [
       "<Figure size 640x480 with 2 Axes>"
      ]
     },
     "metadata": {},
     "output_type": "display_data"
    }
   ],
   "source": [
    "f0 = lambda x: 2*x\n",
    "f1 = lambda x: x - 1\n",
    "g0 = lambda y: -y\n",
    "g1 = lambda y: 2*(1 - y)\n",
    "U = laplace(f0,f1,g0,g1,N=100)\n",
    "plot_laplace(U)"
   ]
  },
  {
   "cell_type": "markdown",
   "id": "e87fa115-0dc7-47c3-9f0d-9002a0fc3853",
   "metadata": {},
   "source": [
    "**Example 2.** Compute the solution for $u(x,0) = x^2 - 1$, $u(x,1) = x^2$, $u(0,y) = y^2 - 1$, $u(1,y) = y^2$. Use $N=50$ and $D = 0.0001$."
   ]
  },
  {
   "cell_type": "code",
   "execution_count": 35,
   "id": "5b65c465-2efb-4097-8c2f-b87a8685a494",
   "metadata": {
    "tags": []
   },
   "outputs": [
    {
     "name": "stdout",
     "output_type": "stream",
     "text": [
      "Found approximation U with dUk = 9.989795002416083e-05 after k=672 iterations.\n"
     ]
    },
    {
     "data": {
      "image/png": "[encoded data removed]",
      "text/plain": [
       "<Figure size 640x480 with 2 Axes>"
      ]
     },
     "metadata": {},
     "output_type": "display_data"
    }
   ],
   "source": [
    "f0 = lambda x: x**2 - 1\n",
    "f1 = lambda x: x**2\n",
    "g0 = lambda y: y**2 - 1\n",
    "g1 = lambda y: y**2\n",
    "U = laplace(f0,f1,g0,g1,N=50,D=1e-4)\n",
    "plot_laplace(U)"
   ]
  },
  {
   "cell_type": "markdown",
   "id": "c58778ae-af58-4983-a837-64d6284883fd",
   "metadata": {},
   "source": [
    "**Example 3.** Compute the solution for boundary conditions:\n",
    "\n",
    "$$\n",
    "\\begin{align*}\n",
    "u(x,0) &= -1 - \\cos(\\pi x) \\\\\n",
    "u(x,1) &= 1 - \\cos(\\pi x) \\\\\n",
    "u(0,y) &= -1 - \\cos(\\pi y) \\\\\n",
    "u(1,y) &= 1 - \\cos(\\pi y)\n",
    "\\end{align*}\n",
    "$$\n",
    "\n",
    "Use $N=50$ and $D = 0.0001$."
   ]
  },
  {
   "cell_type": "code",
   "execution_count": 39,
   "id": "429d327f-7428-41e7-8042-3c6c80d366cc",
   "metadata": {
    "tags": []
   },
   "outputs": [
    {
     "name": "stdout",
     "output_type": "stream",
     "text": [
      "Found approximation U with dUk = 9.995457095552456e-05 after k = 689 iterations.\n"
     ]
    },
    {
     "data": {
      "image/png": "[encoded data removed]",
      "text/plain": [
       "<Figure size 640x480 with 2 Axes>"
      ]
     },
     "metadata": {},
     "output_type": "display_data"
    }
   ],
   "source": [
    "f0 = lambda x: -1 - np.cos(np.pi*x)\n",
    "f1 = lambda x: 1 - np.cos(np.pi*x)\n",
    "g0 = lambda y: -1 - np.cos(np.pi*y)\n",
    "g1 = lambda y: 1 - np.cos(np.pi*y)\n",
    "U = laplace(f0,f1,g0,g1,N=50,D=1e-4)\n",
    "plot_laplace(U)"
   ]
  },
  {
   "cell_type": "markdown",
   "id": "32a06c0f-3887-4b37-becd-bbeeed8edc3a",
   "metadata": {},
   "source": [
    "## CSCS with Neumann BCs\n",
    "\n",
    "*Under construction*\n",
    "\n",
    "## CSCS with Mixed BCs\n",
    "\n",
    "*Under construction*"
   ]
  }
 ],
 "metadata": {
  "kernelspec": {
   "display_name": "Python 3 (ipykernel)",
   "language": "python",
   "name": "python3"
  },
  "language_info": {
   "codemirror_mode": {
    "name": "ipython",
    "version": 3
   },
   "file_extension": ".py",
   "mimetype": "text/x-python",
   "name": "python",
   "nbconvert_exporter": "python",
   "pygments_lexer": "ipython3",
   "version": "3.10.12"
  }
 },
 "nbformat": 4,
 "nbformat_minor": 5
}
