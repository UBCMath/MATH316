{
 "cells": [
  {
   "cell_type": "markdown",
   "id": "10b0869f-de7b-49f8-a889-ed38e7ce242b",
   "metadata": {},
   "source": [
    "# Wave Equation"
   ]
  },
  {
   "cell_type": "code",
   "execution_count": 1,
   "id": "5ea3d8a7-7da1-428f-b2f9-e3abd8b55639",
   "metadata": {
    "tags": []
   },
   "outputs": [],
   "source": [
    "import numpy as np\n",
    "import matplotlib.pyplot as plt"
   ]
  },
  {
   "cell_type": "markdown",
   "id": "f921c93a-e235-40ab-8b9b-441166be3fb6",
   "metadata": {},
   "source": [
    "$$\n",
    "\\frac{\\partial^2 u}{\\partial t^2} = c^2 \\frac{\\partial^2 u}{\\partial x^2}\n",
    "$$"
   ]
  }
 ],
 "metadata": {
  "kernelspec": {
   "display_name": "Python 3 (ipykernel)",
   "language": "python",
   "name": "python3"
  },
  "language_info": {
   "codemirror_mode": {
    "name": "ipython",
    "version": 3
   },
   "file_extension": ".py",
   "mimetype": "text/x-python",
   "name": "python",
   "nbconvert_exporter": "python",
   "pygments_lexer": "ipython3",
   "version": "3.10.12"
  }
 },
 "nbformat": 4,
 "nbformat_minor": 5
}
