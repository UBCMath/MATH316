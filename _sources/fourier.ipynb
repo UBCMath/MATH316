{
 "cells": [
  {
   "cell_type": "markdown",
   "id": "55c145c1-c53c-40f7-8c5b-dac07e6c4a5a",
   "metadata": {},
   "source": [
    "# Fourier Series"
   ]
  },
  {
   "cell_type": "code",
   "execution_count": 1,
   "id": "63ddb560-ec00-4ed1-8edb-9b0304f46532",
   "metadata": {},
   "outputs": [],
   "source": [
    "import numpy as np\n",
    "import matplotlib.pyplot as plt\n",
    "import scipy.integrate as spi"
   ]
  },
  {
   "cell_type": "markdown",
   "id": "0c396be6-e32f-4263-a6b6-b7f0f0098914",
   "metadata": {},
   "source": [
    "## Definition\n",
    "\n",
    "Let $f(x)$ be a (piecewise) continuous function on the interval $[-L,L]$. The **Fourier series** of $f(x)$ is\n",
    "\n",
    "$$\n",
    "f(x) = \\frac{a_0}{2} + \\sum_{n=1}^{\\infty} a_n \\cos \\left( \\frac{n \\pi x}{L} \\right) + \\sum_{n=1}^{\\infty} b_n \\sin \\left( \\frac{n \\pi x}{L} \\right)\n",
    "$$\n",
    "\n",
    "where the coefficients are given by the integrals\n",
    "\n",
    "$$\n",
    "a_0 = \\frac{1}{L} \\int_{-L}^L f(x) dx\n",
    "$$\n",
    "\n",
    "$$\n",
    "a_n = \\frac{1}{L} \\int_{-L}^L f(x) \\cos \\left( \\frac{n \\pi x}{L} \\right) dx\n",
    "$$\n",
    "\n",
    "$$\n",
    "b_n = \\frac{1}{L} \\int_{-L}^L f(x) \\sin \\left( \\frac{n \\pi x}{L} \\right) dx\n",
    "$$"
   ]
  },
  {
   "cell_type": "markdown",
   "id": "b363b7a1-400a-471d-a4e5-f80f153f4e97",
   "metadata": {},
   "source": [
    "## Computing Coefficients\n",
    "\n",
    "Use the SciPy funciton `scipy.integrate.quad` (see [documentation](https://docs.scipy.org/doc/scipy/reference/generated/scipy.integrate.quad.html)) to numerically approximate a definite integral. For example, let's approximate the integral\n",
    "\n",
    "$$\n",
    "\\int_0^{1} \\sin(x^2) dx\n",
    "$$"
   ]
  },
  {
   "cell_type": "code",
   "execution_count": 2,
   "id": "b46dd783-13ae-4bb2-82a7-19565b343802",
   "metadata": {
    "tags": []
   },
   "outputs": [],
   "source": [
    "f = lambda x: np.sin(x**2)\n",
    "a = 0\n",
    "b = 1\n",
    "I,error = spi.quad(f,a,b)"
   ]
  },
  {
   "cell_type": "markdown",
   "id": "2188dd1f-0dc7-4d44-9c3d-96ab36566934",
   "metadata": {},
   "source": [
    "The function returns the approximation and an upper bound for the error:"
   ]
  },
  {
   "cell_type": "code",
   "execution_count": 3,
   "id": "9ee53c31-9166-48ea-8d58-544ff2229dc5",
   "metadata": {
    "tags": []
   },
   "outputs": [
    {
     "data": {
      "text/plain": [
       "0.3102683017233811"
      ]
     },
     "execution_count": 3,
     "metadata": {},
     "output_type": "execute_result"
    }
   ],
   "source": [
    "I"
   ]
  },
  {
   "cell_type": "code",
   "execution_count": 4,
   "id": "be2eadd5-1eaa-462d-9586-eb56feb1632c",
   "metadata": {
    "tags": []
   },
   "outputs": [
    {
     "data": {
      "text/plain": [
       "3.444670123846428e-15"
      ]
     },
     "execution_count": 4,
     "metadata": {},
     "output_type": "execute_result"
    }
   ],
   "source": [
    "error"
   ]
  },
  {
   "cell_type": "markdown",
   "id": "fed5ea0d-1efa-4172-ad6e-300b59f9dd31",
   "metadata": {},
   "source": [
    "Let's use the function `scipy.integrate.quad` to approximate first few Fourier coefficients of the function $f(x) = 1 - x^2$ on the interval $[-1,1]$."
   ]
  },
  {
   "cell_type": "code",
   "execution_count": 5,
   "id": "ca685357-af1e-4295-9d64-22a0e9d9f02c",
   "metadata": {
    "tags": []
   },
   "outputs": [],
   "source": [
    "f = lambda x: 1 - x**2\n",
    "L = 1"
   ]
  },
  {
   "cell_type": "code",
   "execution_count": 6,
   "id": "f969e292-ec36-4ef3-83ea-e4e14bda14b8",
   "metadata": {
    "tags": []
   },
   "outputs": [
    {
     "data": {
      "text/plain": [
       "1.3333333333333335"
      ]
     },
     "execution_count": 6,
     "metadata": {},
     "output_type": "execute_result"
    }
   ],
   "source": [
    "I0,_ = spi.quad(f,-L,L)\n",
    "a0 = 1/L*I0\n",
    "a0"
   ]
  },
  {
   "cell_type": "code",
   "execution_count": 7,
   "id": "465b18ec-8f0f-418c-a85e-979a68167ddb",
   "metadata": {
    "tags": []
   },
   "outputs": [
    {
     "data": {
      "text/plain": [
       "0.40528473456935127"
      ]
     },
     "execution_count": 7,
     "metadata": {},
     "output_type": "execute_result"
    }
   ],
   "source": [
    "integrand_a1 = lambda x: f(x)*np.cos(np.pi*x/L)\n",
    "Ia1,_ = spi.quad(integrand_a1,-L,L)\n",
    "a1 = 1/L*Ia1\n",
    "a1"
   ]
  },
  {
   "cell_type": "code",
   "execution_count": 8,
   "id": "22175fe0-15a7-4ab4-9f2c-fa315cc4d863",
   "metadata": {
    "tags": []
   },
   "outputs": [
    {
     "data": {
      "text/plain": [
       "-0.10132118364233778"
      ]
     },
     "execution_count": 8,
     "metadata": {},
     "output_type": "execute_result"
    }
   ],
   "source": [
    "integrand_a2 = lambda x: f(x)*np.cos(2*np.pi*x/L)\n",
    "Ia2,_ = spi.quad(integrand_a2,-L,L)\n",
    "a2 = 1/L*Ia2\n",
    "a2"
   ]
  },
  {
   "cell_type": "code",
   "execution_count": 9,
   "id": "dc45ec5a-b3f2-4119-835c-9d1a9de07ac8",
   "metadata": {
    "tags": []
   },
   "outputs": [
    {
     "data": {
      "text/plain": [
       "0.0"
      ]
     },
     "execution_count": 9,
     "metadata": {},
     "output_type": "execute_result"
    }
   ],
   "source": [
    "integrand_b1 = lambda x: f(x)*np.sin(np.pi*x/L)\n",
    "Ib1,_ = spi.quad(integrand_b1,-L,L)\n",
    "b1 = 1/L*Ib1\n",
    "b1"
   ]
  },
  {
   "cell_type": "code",
   "execution_count": 10,
   "id": "2278019a-7431-43fb-aab7-9489674e2477",
   "metadata": {
    "tags": []
   },
   "outputs": [
    {
     "data": {
      "text/plain": [
       "0.0"
      ]
     },
     "execution_count": 10,
     "metadata": {},
     "output_type": "execute_result"
    }
   ],
   "source": [
    "integrand_b2 = lambda x: f(x)*np.sin(2*np.pi*x/L)\n",
    "Ib2,_ = spi.quad(integrand_b2,-L,L)\n",
    "b2 = 1/L*Ib2\n",
    "b2"
   ]
  },
  {
   "cell_type": "markdown",
   "id": "36f3444a-b3d5-419a-8ded-087ae7981fe6",
   "metadata": {},
   "source": [
    "Of course, all the coefficients $b_n = 0$ since $f(x)$ is an even function."
   ]
  },
  {
   "cell_type": "markdown",
   "id": "a3636ea1-10db-481b-8a33-63da554dd205",
   "metadata": {},
   "source": [
    "The function `fourier` takes input parameters `f`, `L` and `N`, and returns a tuple `(a0,a,b)` where:\n",
    "\n",
    "* `f` is a Python function representing $f(x)$\n",
    "* `L` defines the interval $[-L,L]$\n",
    "* `N` is the number of coefficients to compute\n",
    "* `a0` is the constant term $a_0$ in the Fourier series\n",
    "* `a` is a NumPy array of length $N$ of Fourier coefficients $a_1,\\dots,a_N$\n",
    "* `b` is a NumPy array of length $N$ of Fourier coefficients $b_1,\\dots,b_N$"
   ]
  },
  {
   "cell_type": "code",
   "execution_count": 11,
   "id": "47c18b94-44ee-4623-908f-4b978d454d0c",
   "metadata": {},
   "outputs": [],
   "source": [
    "def fourier(f,L,N):\n",
    "    a = np.zeros(N)\n",
    "    b = np.zeros(N)\n",
    "    I,_ = spi.quad(f,-L,L)\n",
    "    a0 = 1/L*I\n",
    "    for n in range(1,N+1):\n",
    "        integrand = lambda x: f(x)*np.cos(n*np.pi*x/L)\n",
    "        I,_ = spi.quad(integrand,-L,L)\n",
    "        a[n-1] = 1/L*I\n",
    "        integrand = lambda x: f(x)*np.sin(n*np.pi*x/L)\n",
    "        I,_ = spi.quad(integrand,-L,L)\n",
    "        b[n-1] = 1/L*I\n",
    "    return a0,a,b"
   ]
  },
  {
   "cell_type": "markdown",
   "id": "3d324f93-7cc5-4a00-b62d-0d63d0c9c767",
   "metadata": {},
   "source": [
    "For example, let's apply `fourier` to $f(x) = 1 - x^2$ on $[-1,1]$ and recover the coefficients computed in the example in the previous section above."
   ]
  },
  {
   "cell_type": "code",
   "execution_count": 12,
   "id": "6cd8a81a-7699-4553-a703-3334127c3060",
   "metadata": {
    "tags": []
   },
   "outputs": [],
   "source": [
    "f = lambda x: 1 - x**2\n",
    "L = 1\n",
    "N = 5\n",
    "a0,a,b = fourier(f,L,N)"
   ]
  },
  {
   "cell_type": "code",
   "execution_count": 13,
   "id": "4fd563a2-1f65-4f50-8b72-8a62d4a051d5",
   "metadata": {
    "tags": []
   },
   "outputs": [
    {
     "data": {
      "text/plain": [
       "1.3333333333333335"
      ]
     },
     "execution_count": 13,
     "metadata": {},
     "output_type": "execute_result"
    }
   ],
   "source": [
    "a0"
   ]
  },
  {
   "cell_type": "code",
   "execution_count": 14,
   "id": "71357176-bd91-420a-8006-5f3b03feeb03",
   "metadata": {
    "tags": []
   },
   "outputs": [
    {
     "data": {
      "text/plain": [
       "array([ 0.40528473, -0.10132118,  0.04503164, -0.0253303 ,  0.01621139])"
      ]
     },
     "execution_count": 14,
     "metadata": {},
     "output_type": "execute_result"
    }
   ],
   "source": [
    "a"
   ]
  },
  {
   "cell_type": "code",
   "execution_count": 15,
   "id": "739234a1-9158-465d-9642-e04d2efb45f4",
   "metadata": {
    "tags": []
   },
   "outputs": [
    {
     "data": {
      "text/plain": [
       "array([0., 0., 0., 0., 0.])"
      ]
     },
     "execution_count": 15,
     "metadata": {},
     "output_type": "execute_result"
    }
   ],
   "source": [
    "b"
   ]
  },
  {
   "cell_type": "markdown",
   "id": "b4e2aba1-9ee2-4813-8524-c9ca27f4d8c5",
   "metadata": {},
   "source": [
    "Now let's try an example where $f(x)$ is a sum of sine and cosine functions to verify that the function `fourier` simply recovers the coefficients in the definition of $f(x)$."
   ]
  },
  {
   "cell_type": "code",
   "execution_count": 16,
   "id": "18517247-91a1-47a6-82a2-96b2e4518151",
   "metadata": {},
   "outputs": [],
   "source": [
    "f = lambda x: 1 + 3*np.sin(np.pi*x) + np.cos(np.pi*x) + 3*np.sin(3*np.pi*x)\n",
    "L = 1\n",
    "N = 4\n",
    "a0,a,b = fourier(f,L,N)"
   ]
  },
  {
   "cell_type": "code",
   "execution_count": 17,
   "id": "149f3f9e-30f2-4181-a6b9-d0f1372108a4",
   "metadata": {},
   "outputs": [
    {
     "data": {
      "text/plain": [
       "2.0000000000000004"
      ]
     },
     "execution_count": 17,
     "metadata": {},
     "output_type": "execute_result"
    }
   ],
   "source": [
    "a0"
   ]
  },
  {
   "cell_type": "code",
   "execution_count": 18,
   "id": "63c9c4be-30ea-43c8-907f-4a07158cb5af",
   "metadata": {},
   "outputs": [
    {
     "data": {
      "text/plain": [
       "array([ 1.00000000e+00, -8.32667268e-17, -2.77555756e-17, -5.55111512e-17])"
      ]
     },
     "execution_count": 18,
     "metadata": {},
     "output_type": "execute_result"
    }
   ],
   "source": [
    "a"
   ]
  },
  {
   "cell_type": "code",
   "execution_count": 19,
   "id": "790594c8-7a43-45e9-b91f-e01050ed34ad",
   "metadata": {},
   "outputs": [
    {
     "data": {
      "text/plain": [
       "array([ 3.00000000e+00,  0.00000000e+00,  3.00000000e+00, -3.33066907e-16])"
      ]
     },
     "execution_count": 19,
     "metadata": {},
     "output_type": "execute_result"
    }
   ],
   "source": [
    "b"
   ]
  },
  {
   "cell_type": "markdown",
   "id": "75780386-8aae-49b8-9281-f2b88610ffc4",
   "metadata": {},
   "source": [
    "When programming in Python, we can interpret numbers such as $10^{-16}$ as 0 therefore we have $a_0 = 2$, $a_1 = 1$, $a_2 = a_3 = a_4 = 0$, $b_1 = 3$, $b_2 = b_4 = 0$ and $b_3 = 3$."
   ]
  },
  {
   "cell_type": "markdown",
   "id": "67b4505d-280d-49ee-b608-f3ae297393c6",
   "metadata": {},
   "source": [
    "## Computing Series\n",
    "\n",
    "The function `fouriersum` takes the output `a0`, `a` and `b` from the function `fourier` along with array `x` and number `L` and returns the array of $y$ values given by the sum\n",
    "\n",
    "$$\n",
    "\\frac{a_0}{2} + \\sum_{n=1}^N a_n \\cos \\left( \\frac{n \\pi x}{L} \\right) + \\sum_{n=1}^N b_n \\sin \\left( \\frac{n \\pi x}{L} \\right)\n",
    "$$"
   ]
  },
  {
   "cell_type": "code",
   "execution_count": 20,
   "id": "d049f8b1-6b88-4475-a428-228d516f4e5e",
   "metadata": {},
   "outputs": [],
   "source": [
    "def fouriersum(a0,a,b,x,L):\n",
    "    cosine_sum = sum([a[n-1]*np.cos(n*np.pi*x/L) for n in range(1,len(a)+1)])\n",
    "    sine_sum = sum([b[n-1]*np.sin(n*np.pi*x/L) for n in range(1,len(b)+1)])\n",
    "    return a0/2 + cosine_sum + sine_sum"
   ]
  },
  {
   "cell_type": "markdown",
   "id": "ed11fc52-ff80-441f-bf13-d4a46d56ddad",
   "metadata": {},
   "source": [
    "Let's plot the function $f(x) = 1 - x^2$ along with the partial Fourier series up to $N=3$."
   ]
  },
  {
   "cell_type": "code",
   "execution_count": 21,
   "id": "9cdd3383-8ffc-4a7b-a22f-3bdf6b57c4f0",
   "metadata": {},
   "outputs": [
    {
     "data": {
      "image/png": "[encoded data removed]",
      "text/plain": [
       "<Figure size 640x480 with 1 Axes>"
      ]
     },
     "metadata": {},
     "output_type": "display_data"
    }
   ],
   "source": [
    "f = lambda x: 1 - x**2\n",
    "L = 1\n",
    "N = 3\n",
    "a0,a,b = fourier(f,L,N)\n",
    "x = np.linspace(-L,L,100)\n",
    "y = fouriersum(a0,a,b,x,L)\n",
    "plt.plot(x,y,label=\"Partial Fourier Series\")\n",
    "plt.plot(x,f(x),label=\"Function $f(x) = 1-x^2$\")\n",
    "plt.grid(True), plt.legend()\n",
    "plt.show()"
   ]
  },
  {
   "cell_type": "markdown",
   "id": "cc19c8a1-7aa1-467f-acc6-fc93077eb31b",
   "metadata": {},
   "source": [
    "## Examples"
   ]
  },
  {
   "cell_type": "markdown",
   "id": "4265c937-5f5d-4102-88af-46763293397d",
   "metadata": {},
   "source": [
    "### Sawtooth Wave"
   ]
  },
  {
   "cell_type": "code",
   "execution_count": 22,
   "id": "d11cfaf3-51dd-4610-82d2-e247ba8d048c",
   "metadata": {},
   "outputs": [],
   "source": [
    "import scipy.signal as sps"
   ]
  },
  {
   "cell_type": "code",
   "execution_count": 23,
   "id": "51d64b98-f2e5-4d63-a608-c6a342b3f70c",
   "metadata": {},
   "outputs": [
    {
     "data": {
      "image/png": "[encoded data removed]",
      "text/plain": [
       "<Figure size 640x480 with 1 Axes>"
      ]
     },
     "metadata": {},
     "output_type": "display_data"
    }
   ],
   "source": [
    "f = lambda x: sps.sawtooth(2*np.pi*x,width=0.5)\n",
    "L = 2\n",
    "a0,a,b = fourier(f,L,15)\n",
    "x = np.linspace(-L,L,500)\n",
    "y = fouriersum(a0,a,b,x,L)\n",
    "plt.plot(x,y)\n",
    "plt.plot(x,f(x))\n",
    "plt.grid(True)\n",
    "plt.show()"
   ]
  },
  {
   "cell_type": "markdown",
   "id": "2a9c0a75-8c85-4fd8-93c7-9a8b0bdbe1be",
   "metadata": {},
   "source": [
    "### Square Wave"
   ]
  },
  {
   "cell_type": "code",
   "execution_count": null,
   "id": "d8b88b4f-ac5d-4eee-a187-9cafcec98f9c",
   "metadata": {
    "tags": []
   },
   "outputs": [],
   "source": [
    "f = lambda x: sps.square(np.pi*x)\n",
    "L = 1\n",
    "N = 20\n",
    "a0,a,b = fourier(f,L,N)\n",
    "x = np.linspace(-L,L,500)\n",
    "y = fouriersum(a0,a,b,x,L)\n",
    "plt.plot(x,y)\n",
    "plt.plot(x,f(x))\n",
    "plt.grid(True)\n",
    "plt.show()"
   ]
  }
 ],
 "metadata": {
  "kernelspec": {
   "display_name": "Python 3 (ipykernel)",
   "language": "python",
   "name": "python3"
  },
  "language_info": {
   "codemirror_mode": {
    "name": "ipython",
    "version": 3
   },
   "file_extension": ".py",
   "mimetype": "text/x-python",
   "name": "python",
   "nbconvert_exporter": "python",
   "pygments_lexer": "ipython3",
   "version": "3.10.12"
  }
 },
 "nbformat": 4,
 "nbformat_minor": 5
}
