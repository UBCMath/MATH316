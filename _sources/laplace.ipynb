{
 "cells": [
  {
   "cell_type": "markdown",
   "id": "c2471401-0581-47c8-bd0b-230b4423c15b",
   "metadata": {},
   "source": [
    "# Laplace Equation"
   ]
  },
  {
   "cell_type": "code",
   "execution_count": 1,
   "id": "ef138d43-27ca-45a7-9e0f-04e341140256",
   "metadata": {
    "tags": []
   },
   "outputs": [],
   "source": [
    "import numpy as np\n",
    "import matplotlib.pyplot as plt"
   ]
  },
  {
   "cell_type": "markdown",
   "id": "381abfa5-ce2d-4bac-bc19-747664671991",
   "metadata": {},
   "source": [
    "$$\n",
    "\\frac{\\partial^2 u}{\\partial x^2} + \\frac{\\partial^2 u}{\\partial y^2} = 0\n",
    "$$"
   ]
  }
 ],
 "metadata": {
  "kernelspec": {
   "display_name": "Python 3 (ipykernel)",
   "language": "python",
   "name": "python3"
  },
  "language_info": {
   "codemirror_mode": {
    "name": "ipython",
    "version": 3
   },
   "file_extension": ".py",
   "mimetype": "text/x-python",
   "name": "python",
   "nbconvert_exporter": "python",
   "pygments_lexer": "ipython3",
   "version": "3.10.12"
  }
 },
 "nbformat": 4,
 "nbformat_minor": 5
}
