{
 "cells": [
  {
   "cell_type": "markdown",
   "id": "f42533f6-b0a3-489a-b0fe-b6f6557cd7b6",
   "metadata": {},
   "source": [
    "# Bessel Functions"
   ]
  },
  {
   "cell_type": "code",
   "execution_count": 1,
   "id": "3310f9c5-c328-41b9-99c4-3b725d5c0012",
   "metadata": {
    "tags": []
   },
   "outputs": [],
   "source": [
    "import numpy as np\n",
    "import matplotlib.pyplot as plt"
   ]
  },
  {
   "cell_type": "markdown",
   "id": "497a1da0-926e-4849-a5b6-b146b3bc1ea3",
   "metadata": {},
   "source": [
    "The Bessel equation of order $p$ is\n",
    "\n",
    "$$\n",
    "x^2 y'' + xy' + (x^2 - p^2)y = 0\n",
    "$$\n",
    "\n",
    "where $p \\in \\mathbb{R}$ is any constant however for simplicity, we are only going to consider $p = n \\geq 0$ for $n=0,1,2,3,\\dots$."
   ]
  }
 ],
 "metadata": {
  "kernelspec": {
   "display_name": "Python 3 (ipykernel)",
   "language": "python",
   "name": "python3"
  },
  "language_info": {
   "codemirror_mode": {
    "name": "ipython",
    "version": 3
   },
   "file_extension": ".py",
   "mimetype": "text/x-python",
   "name": "python",
   "nbconvert_exporter": "python",
   "pygments_lexer": "ipython3",
   "version": "3.10.12"
  }
 },
 "nbformat": 4,
 "nbformat_minor": 5
}
